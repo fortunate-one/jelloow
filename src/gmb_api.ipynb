{
 "cells": [
  {
   "cell_type": "markdown",
   "metadata": {},
   "source": [
    "```\n",
    "File: gmb_api.ipynb\n",
    "Author: Michael Lucky\n",
    "Date: September 13, 2023\n",
    "Description: This notebook is intended to be used as a template for using the Google My Business API to extract data from Google company profiles for data collection.\n",
    "\n",
    "Copyright (c) 2023 Jelloow\n",
    "\n",
    "For inquiries or permissions regarding the use of this code, please contact:\n",
    "info@jelloow.com\n",
    "```"
   ]
  },
  {
   "cell_type": "code",
   "execution_count": 3,
   "metadata": {},
   "outputs": [],
   "source": [
    "import google.auth\n",
    "from googleapiclient.discovery import build\n",
    "from google.oauth2 import service_account\n",
    "import dotenv\n",
    "import os\n",
    "\n",
    "dotenv.load_dotenv()\n",
    "GOOGLE_API_KEY = os.getenv(\"GOOGLE_API_KEY\")"
   ]
  },
  {
   "cell_type": "code",
   "execution_count": null,
   "metadata": {},
   "outputs": [],
   "source": [
    "# Set up your OAuth 2.0 client ID credentials\n",
    "credentials = service_account.Credentials.from_service_account_file(\n",
    "    'your-service-account-key.json',\n",
    "    scopes=['https://www.googleapis.com/auth/business.manage']\n",
    ")\n",
    "\n",
    "# Create a GMB API client\n",
    "gmb_service = build('mybusiness', 'v4', credentials=credentials, developerKey=GOOGLE_API_KEY)\n",
    "\n",
    "# You can now make requests to the Google My Business API using the `gmb_service` object.\n"
   ]
  },
  {
   "cell_type": "code",
   "execution_count": 8,
   "metadata": {},
   "outputs": [],
   "source": [
    "def get_all_locations_for_business(business_name: str, account_id: str) -> None:\n",
    "    # Authenticate using Google API credentials.\n",
    "    credentials, _ = google.auth.default(scopes=['https://www.googleapis.com/auth/business.manage'])\n",
    "    service = build('mybusiness', 'v4.9', credentials=credentials)\n",
    "\n",
    "    # Define the search request parameters with the business name filter.\n",
    "    request = service.accounts().locations().list(\n",
    "        name=f'accounts/{account_id}',\n",
    "        filter=f\"name:{business_name}\"\n",
    "    )\n",
    "\n",
    "    try:\n",
    "        response = request.execute()\n",
    "        locations = response.get('locations', [])\n",
    "\n",
    "        if locations:\n",
    "            for location in locations:\n",
    "                location_id = location['name']\n",
    "                location_name = location.get('locationName', '')\n",
    "                print(f\"Location ID: {location_id}\")\n",
    "                print(f\"Location Name: {location_name}\")\n",
    "                print()  # Add an empty line for separation\n",
    "        else:\n",
    "            print(f\"No locations found for '{business_name}'\")\n",
    "\n",
    "    except Exception as e:\n",
    "        print(f\"An error occurred: {e}\")"
   ]
  },
  {
   "cell_type": "code",
   "execution_count": 9,
   "metadata": {},
   "outputs": [
    {
     "ename": "UnknownApiNameOrVersion",
     "evalue": "name: mybusiness  version: v4",
     "output_type": "error",
     "traceback": [
      "\u001b[1;31m---------------------------------------------------------------------------\u001b[0m",
      "\u001b[1;31mUnknownApiNameOrVersion\u001b[0m                   Traceback (most recent call last)",
      "\u001b[1;32mc:\\Users\\lucky\\Repos\\jelloow\\src\\gmb.ipynb Cell 4\u001b[0m line \u001b[0;36m3\n\u001b[0;32m      <a href='vscode-notebook-cell:/c%3A/Users/lucky/Repos/jelloow/src/gmb.ipynb#W3sZmlsZQ%3D%3D?line=0'>1</a>\u001b[0m business_name \u001b[39m=\u001b[39m \u001b[39m'\u001b[39m\u001b[39mPublicis\u001b[39m\u001b[39m'\u001b[39m  \u001b[39m# Replace with the actual business name\u001b[39;00m\n\u001b[1;32m----> <a href='vscode-notebook-cell:/c%3A/Users/lucky/Repos/jelloow/src/gmb.ipynb#W3sZmlsZQ%3D%3D?line=2'>3</a>\u001b[0m locations \u001b[39m=\u001b[39m get_all_locations_for_business(business_name, ACCOUNT_ID)\n",
      "\u001b[1;32mc:\\Users\\lucky\\Repos\\jelloow\\src\\gmb.ipynb Cell 4\u001b[0m line \u001b[0;36m4\n\u001b[0;32m      <a href='vscode-notebook-cell:/c%3A/Users/lucky/Repos/jelloow/src/gmb.ipynb#W3sZmlsZQ%3D%3D?line=0'>1</a>\u001b[0m \u001b[39mdef\u001b[39;00m \u001b[39mget_all_locations_for_business\u001b[39m(business_name: \u001b[39mstr\u001b[39m, account_id: \u001b[39mstr\u001b[39m) \u001b[39m-\u001b[39m\u001b[39m>\u001b[39m \u001b[39mNone\u001b[39;00m:\n\u001b[0;32m      <a href='vscode-notebook-cell:/c%3A/Users/lucky/Repos/jelloow/src/gmb.ipynb#W3sZmlsZQ%3D%3D?line=1'>2</a>\u001b[0m     \u001b[39m# Authenticate using Google API credentials.\u001b[39;00m\n\u001b[0;32m      <a href='vscode-notebook-cell:/c%3A/Users/lucky/Repos/jelloow/src/gmb.ipynb#W3sZmlsZQ%3D%3D?line=2'>3</a>\u001b[0m     credentials, _ \u001b[39m=\u001b[39m google\u001b[39m.\u001b[39mauth\u001b[39m.\u001b[39mdefault(scopes\u001b[39m=\u001b[39m[\u001b[39m'\u001b[39m\u001b[39mhttps://www.googleapis.com/auth/business.manage\u001b[39m\u001b[39m'\u001b[39m])\n\u001b[1;32m----> <a href='vscode-notebook-cell:/c%3A/Users/lucky/Repos/jelloow/src/gmb.ipynb#W3sZmlsZQ%3D%3D?line=3'>4</a>\u001b[0m     service \u001b[39m=\u001b[39m build(\u001b[39m'\u001b[39;49m\u001b[39mmybusiness\u001b[39;49m\u001b[39m'\u001b[39;49m, \u001b[39m'\u001b[39;49m\u001b[39mv4\u001b[39;49m\u001b[39m'\u001b[39;49m, credentials\u001b[39m=\u001b[39;49mcredentials)\n\u001b[0;32m      <a href='vscode-notebook-cell:/c%3A/Users/lucky/Repos/jelloow/src/gmb.ipynb#W3sZmlsZQ%3D%3D?line=5'>6</a>\u001b[0m     \u001b[39m# Define the search request parameters with the business name filter.\u001b[39;00m\n\u001b[0;32m      <a href='vscode-notebook-cell:/c%3A/Users/lucky/Repos/jelloow/src/gmb.ipynb#W3sZmlsZQ%3D%3D?line=6'>7</a>\u001b[0m     request \u001b[39m=\u001b[39m service\u001b[39m.\u001b[39maccounts()\u001b[39m.\u001b[39mlocations()\u001b[39m.\u001b[39mlist(\n\u001b[0;32m      <a href='vscode-notebook-cell:/c%3A/Users/lucky/Repos/jelloow/src/gmb.ipynb#W3sZmlsZQ%3D%3D?line=7'>8</a>\u001b[0m         name\u001b[39m=\u001b[39m\u001b[39mf\u001b[39m\u001b[39m'\u001b[39m\u001b[39maccounts/\u001b[39m\u001b[39m{\u001b[39;00maccount_id\u001b[39m}\u001b[39;00m\u001b[39m'\u001b[39m,\n\u001b[0;32m      <a href='vscode-notebook-cell:/c%3A/Users/lucky/Repos/jelloow/src/gmb.ipynb#W3sZmlsZQ%3D%3D?line=8'>9</a>\u001b[0m         \u001b[39mfilter\u001b[39m\u001b[39m=\u001b[39m\u001b[39mf\u001b[39m\u001b[39m\"\u001b[39m\u001b[39mname:\u001b[39m\u001b[39m{\u001b[39;00mbusiness_name\u001b[39m}\u001b[39;00m\u001b[39m\"\u001b[39m\n\u001b[0;32m     <a href='vscode-notebook-cell:/c%3A/Users/lucky/Repos/jelloow/src/gmb.ipynb#W3sZmlsZQ%3D%3D?line=9'>10</a>\u001b[0m     )\n",
      "File \u001b[1;32mc:\\Users\\lucky\\Repos\\jelloow\\venv\\Lib\\site-packages\\googleapiclient\\_helpers.py:130\u001b[0m, in \u001b[0;36mpositional.<locals>.positional_decorator.<locals>.positional_wrapper\u001b[1;34m(*args, **kwargs)\u001b[0m\n\u001b[0;32m    128\u001b[0m     \u001b[39melif\u001b[39;00m positional_parameters_enforcement \u001b[39m==\u001b[39m POSITIONAL_WARNING:\n\u001b[0;32m    129\u001b[0m         logger\u001b[39m.\u001b[39mwarning(message)\n\u001b[1;32m--> 130\u001b[0m \u001b[39mreturn\u001b[39;00m wrapped(\u001b[39m*\u001b[39;49margs, \u001b[39m*\u001b[39;49m\u001b[39m*\u001b[39;49mkwargs)\n",
      "File \u001b[1;32mc:\\Users\\lucky\\Repos\\jelloow\\venv\\Lib\\site-packages\\googleapiclient\\discovery.py:287\u001b[0m, in \u001b[0;36mbuild\u001b[1;34m(serviceName, version, http, discoveryServiceUrl, developerKey, model, requestBuilder, credentials, cache_discovery, cache, client_options, adc_cert_path, adc_key_path, num_retries, static_discovery, always_use_jwt_access)\u001b[0m\n\u001b[0;32m    284\u001b[0m requested_url \u001b[39m=\u001b[39m uritemplate\u001b[39m.\u001b[39mexpand(discovery_url, params)\n\u001b[0;32m    286\u001b[0m \u001b[39mtry\u001b[39;00m:\n\u001b[1;32m--> 287\u001b[0m     content \u001b[39m=\u001b[39m _retrieve_discovery_doc(\n\u001b[0;32m    288\u001b[0m         requested_url,\n\u001b[0;32m    289\u001b[0m         discovery_http,\n\u001b[0;32m    290\u001b[0m         cache_discovery,\n\u001b[0;32m    291\u001b[0m         serviceName,\n\u001b[0;32m    292\u001b[0m         version,\n\u001b[0;32m    293\u001b[0m         cache,\n\u001b[0;32m    294\u001b[0m         developerKey,\n\u001b[0;32m    295\u001b[0m         num_retries\u001b[39m=\u001b[39;49mnum_retries,\n\u001b[0;32m    296\u001b[0m         static_discovery\u001b[39m=\u001b[39;49mstatic_discovery,\n\u001b[0;32m    297\u001b[0m     )\n\u001b[0;32m    298\u001b[0m     service \u001b[39m=\u001b[39m build_from_document(\n\u001b[0;32m    299\u001b[0m         content,\n\u001b[0;32m    300\u001b[0m         base\u001b[39m=\u001b[39mdiscovery_url,\n\u001b[1;32m   (...)\u001b[0m\n\u001b[0;32m    309\u001b[0m         always_use_jwt_access\u001b[39m=\u001b[39malways_use_jwt_access,\n\u001b[0;32m    310\u001b[0m     )\n\u001b[0;32m    311\u001b[0m     \u001b[39mbreak\u001b[39;00m  \u001b[39m# exit if a service was created\u001b[39;00m\n",
      "File \u001b[1;32mc:\\Users\\lucky\\Repos\\jelloow\\venv\\Lib\\site-packages\\googleapiclient\\discovery.py:404\u001b[0m, in \u001b[0;36m_retrieve_discovery_doc\u001b[1;34m(url, http, cache_discovery, serviceName, version, cache, developerKey, num_retries, static_discovery)\u001b[0m\n\u001b[0;32m    402\u001b[0m         \u001b[39mreturn\u001b[39;00m content\n\u001b[0;32m    403\u001b[0m     \u001b[39melse\u001b[39;00m:\n\u001b[1;32m--> 404\u001b[0m         \u001b[39mraise\u001b[39;00m UnknownApiNameOrVersion(\n\u001b[0;32m    405\u001b[0m             \u001b[39m\"\u001b[39m\u001b[39mname: \u001b[39m\u001b[39m%s\u001b[39;00m\u001b[39m  version: \u001b[39m\u001b[39m%s\u001b[39;00m\u001b[39m\"\u001b[39m \u001b[39m%\u001b[39m (serviceName, version)\n\u001b[0;32m    406\u001b[0m         )\n\u001b[0;32m    408\u001b[0m actual_url \u001b[39m=\u001b[39m url\n\u001b[0;32m    409\u001b[0m \u001b[39m# REMOTE_ADDR is defined by the CGI spec [RFC3875] as the environment\u001b[39;00m\n\u001b[0;32m    410\u001b[0m \u001b[39m# variable that contains the network address of the client sending the\u001b[39;00m\n\u001b[0;32m    411\u001b[0m \u001b[39m# request. If it exists then add that to the request for the discovery\u001b[39;00m\n\u001b[0;32m    412\u001b[0m \u001b[39m# document to avoid exceeding the quota on discovery requests.\u001b[39;00m\n",
      "\u001b[1;31mUnknownApiNameOrVersion\u001b[0m: name: mybusiness  version: v4"
     ]
    }
   ],
   "source": [
    "business_name = 'Publicis'  # Replace with the actual business name\n",
    "\n",
    "locations = get_all_locations_for_business(business_name, ACCOUNT_ID)"
   ]
  },
  {
   "cell_type": "code",
   "execution_count": null,
   "metadata": {},
   "outputs": [],
   "source": [
    "def get_google_my_business_info(business_id: str) -> None:\n",
    "    credentials, _ = google.auth.default(scopes=['https://www.googleapis.com/auth/business.manage'])\n",
    "    service = build('mybusiness', 'v4', credentials=credentials)\n",
    "    location_name = f'locations/{business_id}'  # Use the provided business_id\n",
    "    fields = 'name,locationName,employees,website,createTime'\n",
    "\n",
    "    try:\n",
    "        response = service.accounts().locations().get(name=location_name, readMask=fields).execute()\n",
    "\n",
    "        name: str = response.get('name', '')\n",
    "        location_name: str = response.get('locationName', '')\n",
    "        employees: str = response.get('employees', '')\n",
    "        create_time: str = response.get('createTime', '')\n",
    "\n",
    "        print(f\"Business Name: {name}\")\n",
    "        print(f\"Location Name: {location_name}\")\n",
    "        print(f\"Number of Employees: {employees}\")\n",
    "        print(f\"Year Founded: {create_time}\")\n",
    "\n",
    "    except Exception as e:\n",
    "        print(f\"An error occurred: {e}\")"
   ]
  },
  {
   "cell_type": "code",
   "execution_count": null,
   "metadata": {},
   "outputs": [],
   "source": [
    "get_google_my_business_info()"
   ]
  }
 ],
 "metadata": {
  "kernelspec": {
   "display_name": "venv",
   "language": "python",
   "name": "python3"
  },
  "language_info": {
   "codemirror_mode": {
    "name": "ipython",
    "version": 3
   },
   "file_extension": ".py",
   "mimetype": "text/x-python",
   "name": "python",
   "nbconvert_exporter": "python",
   "pygments_lexer": "ipython3",
   "version": "3.11.4"
  }
 },
 "nbformat": 4,
 "nbformat_minor": 2
}

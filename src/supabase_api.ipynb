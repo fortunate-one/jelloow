{
 "cells": [
  {
   "cell_type": "markdown",
   "metadata": {},
   "source": [
    "```\n",
    "File: supabase_api.ipynb\n",
    "Author: Michael Lucky\n",
    "Date: September 14, 2023\n",
    "Description: This notebook is intended to be used as a template for using the Supabase API to insert data into a supabase database.\n",
    "\n",
    "Copyright (c) 2023 Jelloow\n",
    "\n",
    "For inquiries or permissions regarding the use of this code, please contact:\n",
    "info@jelloow.com\n",
    "```"
   ]
  },
  {
   "cell_type": "code",
   "execution_count": 1,
   "metadata": {},
   "outputs": [],
   "source": [
    "import logging\n",
    "import tomllib\n",
    "from supabase import create_client, Client\n",
    "\n",
    "# format logging\n",
    "logging.basicConfig(format='%(asctime)s: %(name)s: %(levelname)s: %(message)s', level=logging.DEBUG, datefmt='%Y-%m-%dT%H:%M:%S%z')\n",
    "\n",
    "# create logger\n",
    "log = logging.getLogger(__name__)\n",
    "\n",
    "# read in .env file\n",
    "with open('./.env', 'rb') as f:\n",
    "    env = tomllib.load(f)\n"
   ]
  },
  {
   "cell_type": "code",
   "execution_count": 2,
   "metadata": {},
   "outputs": [],
   "source": [
    "url: str = env[\"SUPABASE_URL\"]\n",
    "key: str = env[\"SUPABASE_KEY\"]\n",
    "supabase: Client = create_client(url, key)"
   ]
  },
  {
   "cell_type": "markdown",
   "metadata": {},
   "source": [
    "## Fetch data"
   ]
  },
  {
   "cell_type": "code",
   "execution_count": 7,
   "metadata": {},
   "outputs": [
    {
     "name": "stderr",
     "output_type": "stream",
     "text": [
      "2023-09-14 09:44:23,008:INFO - HTTP Request: GET https://pkmuqksrwzzzfizsbcsv.supabase.co/rest/v1/countries?select=%2A \"HTTP/1.1 200 OK\"\n",
      "2023-09-14 09:44:23,063:INFO - data=[{'id': 1, 'created_at': '2023-09-14T15:42:28.149148+00:00', 'name': 'Denmark'}] count=None\n"
     ]
    }
   ],
   "source": [
    "# getting data\n",
    "response = supabase.table('countries').select(\"*\").execute()\n",
    "log.info(response)"
   ]
  },
  {
   "cell_type": "code",
   "execution_count": 8,
   "metadata": {},
   "outputs": [
    {
     "name": "stderr",
     "output_type": "stream",
     "text": [
      "2023-09-14 09:44:40,594:INFO - HTTP Request: GET https://pkmuqksrwzzzfizsbcsv.supabase.co/rest/v1/countries?select=name \"HTTP/1.1 200 OK\"\n",
      "2023-09-14 09:44:40,595:INFO - data=[{'name': 'Denmark'}] count=None\n"
     ]
    }
   ],
   "source": [
    "# selecting specific columns\n",
    "response = supabase.table('countries').select('name').execute()\n",
    "log.info(response)"
   ]
  },
  {
   "cell_type": "code",
   "execution_count": 10,
   "metadata": {},
   "outputs": [
    {
     "name": "stderr",
     "output_type": "stream",
     "text": [
      "2023-09-14 09:46:32,321:INFO - HTTP Request: GET https://pkmuqksrwzzzfizsbcsv.supabase.co/rest/v1/countries?select=%2A \"HTTP/1.1 200 OK\"\n",
      "2023-09-14 09:46:32,374:INFO - data=[{'id': 1, 'created_at': '2023-09-14T15:42:28.149148+00:00', 'name': 'Denmark'}] count=1\n"
     ]
    }
   ],
   "source": [
    "# query with count option\n",
    "response = supabase.table('countries').select('*', count='exact').execute()\n",
    "log.info(response)"
   ]
  },
  {
   "cell_type": "markdown",
   "metadata": {},
   "source": [
    "## Insert data"
   ]
  },
  {
   "cell_type": "code",
   "execution_count": 13,
   "metadata": {},
   "outputs": [
    {
     "name": "stderr",
     "output_type": "stream",
     "text": [
      "2023-09-14 09:49:43,070:INFO - HTTP Request: POST https://pkmuqksrwzzzfizsbcsv.supabase.co/rest/v1/countries \"HTTP/1.1 201 Created\"\n",
      "2023-09-14 09:49:43,127:INFO - ('data', [{'id': 2, 'created_at': '2023-09-14T15:49:43.567724+00:00', 'name': 'United States'}])\n",
      "2023-09-14 09:49:43,127:INFO - ('count', None)\n"
     ]
    }
   ],
   "source": [
    "# inserting data\n",
    "data, count = supabase.table('countries').insert({\"id\": 2, \"name\": \"United States\"}).execute()\n",
    "log.info(data)\n",
    "log.info(count)"
   ]
  }
 ],
 "metadata": {
  "kernelspec": {
   "display_name": "venv",
   "language": "python",
   "name": "python3"
  },
  "language_info": {
   "codemirror_mode": {
    "name": "ipython",
    "version": 3
   },
   "file_extension": ".py",
   "mimetype": "text/x-python",
   "name": "python",
   "nbconvert_exporter": "python",
   "pygments_lexer": "ipython3",
   "version": "3.11.2"
  },
  "orig_nbformat": 4
 },
 "nbformat": 4,
 "nbformat_minor": 2
}

{
 "cells": [
  {
   "cell_type": "markdown",
   "metadata": {},
   "source": [
    "```\n",
    "File: supabase_api.ipynb\n",
    "Author: Michael Lucky\n",
    "Date: September 14, 2023\n",
    "Description: This notebook is intended to be used as a template for using the Supabase API to insert data into a supabase database.\n",
    "\n",
    "Copyright (c) 2023 Jelloow\n",
    "\n",
    "For inquiries or permissions regarding the use of this code, please contact:\n",
    "info@jelloow.com\n",
    "```"
   ]
  },
  {
   "cell_type": "code",
   "execution_count": 1,
   "metadata": {},
   "outputs": [],
   "source": [
    "import logging\n",
    "import tomllib\n",
    "from supabase import create_client, Client\n",
    "\n",
    "# format logging\n",
    "logging.basicConfig(format='%(asctime)s: %(name)s: %(levelname)s: %(message)s', level=logging.DEBUG, datefmt='%Y-%m-%dT%H:%M:%S%z')\n",
    "\n",
    "# create logger\n",
    "log = logging.getLogger(__name__)\n",
    "\n",
    "# read in .env file\n",
    "with open('./.env', 'rb') as f:\n",
    "    env = tomllib.load(f)\n"
   ]
  },
  {
   "cell_type": "code",
   "execution_count": 2,
   "metadata": {},
   "outputs": [],
   "source": [
    "url: str = env[\"SUPABASE_URL\"]\n",
    "key: str = env[\"SUPABASE_KEY\"]\n",
    "supabase: Client = create_client(url, key)"
   ]
  },
  {
   "cell_type": "markdown",
   "metadata": {},
   "source": [
    "## Fetch data"
   ]
  },
  {
   "cell_type": "code",
   "execution_count": 3,
   "metadata": {},
   "outputs": [
    {
     "name": "stderr",
     "output_type": "stream",
     "text": [
      "2023-09-15 17:40:23,409:INFO - HTTP Request: GET https://pkmuqksrwzzzfizsbcsv.supabase.co/rest/v1/countries?select=%2A \"HTTP/1.1 200 OK\"\n",
      "2023-09-15 17:40:23,410:INFO - data=[{'id': 1, 'created_at': '2023-09-14T15:42:28.149148+00:00', 'name': 'Denmark'}, {'id': 2, 'created_at': '2023-09-14T15:49:43.567724+00:00', 'name': 'United States'}] count=None\n"
     ]
    }
   ],
   "source": [
    "# getting data\n",
    "response = supabase.table('countries').select(\"*\").execute()\n",
    "log.info(response)"
   ]
  },
  {
   "cell_type": "code",
   "execution_count": 4,
   "metadata": {},
   "outputs": [
    {
     "name": "stderr",
     "output_type": "stream",
     "text": [
      "2023-09-15 17:40:27,707:INFO - HTTP Request: GET https://pkmuqksrwzzzfizsbcsv.supabase.co/rest/v1/countries?select=name \"HTTP/1.1 200 OK\"\n",
      "2023-09-15 17:40:27,708:INFO - data=[{'name': 'Denmark'}, {'name': 'United States'}] count=None\n"
     ]
    }
   ],
   "source": [
    "# selecting specific columns\n",
    "response = supabase.table('countries').select('name').execute()\n",
    "log.info(response)"
   ]
  },
  {
   "cell_type": "code",
   "execution_count": 5,
   "metadata": {},
   "outputs": [
    {
     "name": "stderr",
     "output_type": "stream",
     "text": [
      "2023-09-15 17:40:29,993:INFO - HTTP Request: GET https://pkmuqksrwzzzfizsbcsv.supabase.co/rest/v1/countries?select=%2A \"HTTP/1.1 200 OK\"\n",
      "2023-09-15 17:40:29,994:INFO - data=[{'id': 1, 'created_at': '2023-09-14T15:42:28.149148+00:00', 'name': 'Denmark'}, {'id': 2, 'created_at': '2023-09-14T15:49:43.567724+00:00', 'name': 'United States'}] count=2\n"
     ]
    }
   ],
   "source": [
    "# query with count option\n",
    "response = supabase.table('countries').select('*', count='exact').execute()\n",
    "log.info(response)"
   ]
  },
  {
   "cell_type": "markdown",
   "metadata": {},
   "source": [
    "## Insert data"
   ]
  },
  {
   "cell_type": "code",
   "execution_count": 6,
   "metadata": {},
   "outputs": [
    {
     "name": "stderr",
     "output_type": "stream",
     "text": [
      "2023-09-15 17:40:44,097:INFO - HTTP Request: POST https://pkmuqksrwzzzfizsbcsv.supabase.co/rest/v1/countries \"HTTP/1.1 201 Created\"\n",
      "2023-09-15 17:40:44,098:INFO - ('data', [{'id': 3, 'created_at': '2023-09-15T23:40:43.998583+00:00', 'name': 'India'}])\n",
      "2023-09-15 17:40:44,098:INFO - ('count', None)\n"
     ]
    }
   ],
   "source": [
    "# inserting data\n",
    "data, count = supabase.table('countries').insert({\"id\": 3, \"name\": \"India\"}).execute()\n",
    "log.info(data)\n",
    "log.info(count)"
   ]
  },
  {
   "cell_type": "code",
   "execution_count": null,
   "metadata": {},
   "outputs": [],
   "source": []
  }
 ],
 "metadata": {
  "kernelspec": {
   "display_name": "venv",
   "language": "python",
   "name": "python3"
  },
  "language_info": {
   "codemirror_mode": {
    "name": "ipython",
    "version": 3
   },
   "file_extension": ".py",
   "mimetype": "text/x-python",
   "name": "python",
   "nbconvert_exporter": "python",
   "pygments_lexer": "ipython3",
   "version": "3.11.4"
  },
  "orig_nbformat": 4
 },
 "nbformat": 4,
 "nbformat_minor": 2
}

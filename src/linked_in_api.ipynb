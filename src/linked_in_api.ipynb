{
 "cells": [
  {
   "cell_type": "markdown",
   "metadata": {},
   "source": [
    "```\n",
    "File: linked_in_api.ipynb\n",
    "Author: Michael Lucky\n",
    "Date: September 13, 2023\n",
    "Description: This notebook is intended to be used as a template for using the LinkedIn API to extract data from LinkedIn company profiles for data collection.\n",
    "\n",
    "Copyright (c) 2023 Jelloow\n",
    "\n",
    "For inquiries or permissions regarding the use of this code, please contact:\n",
    "info@jelloow.com\n",
    "```"
   ]
  },
  {
   "cell_type": "code",
   "execution_count": 3,
   "metadata": {},
   "outputs": [],
   "source": [
    "import http.client\n",
    "import logging\n",
    "import json\n",
    "import datetime\n",
    "import os\n",
    "from dotenv import load_dotenv\n",
    "\n",
    "# format logging\n",
    "logging.basicConfig(format='%(asctime)s: %(name)s: %(levelname)s: %(message)s', level=logging.DEBUG, datefmt='%Y-%m-%dT%H:%M:%S%z')\n",
    "\n",
    "# create logger\n",
    "log = logging.getLogger(__name__)\n",
    "\n",
    "# read in .env file\n",
    "load_dotenv()\n",
    "\n",
    "LINKEDIN_CLIENT_SECRET = os.environ['LINKEDIN_CLIENT_SECRET']\n",
    "LINKEDIN_CLIENT_ID = os.environ['LINKEDIN_CLIENT_ID']\n",
    "LINKEDIN_ACCESS_TOKEN = os.environ['LINKEDIN_ACCESS_TOKEN']\n",
    "LINKEDIN_ACCESS_TOKEN_EXPIRATION = os.environ['LINKEDIN_ACCESS_TOKEN_EXPIRATION']"
   ]
  },
  {
   "cell_type": "code",
   "execution_count": 4,
   "metadata": {},
   "outputs": [],
   "source": [
    "# create a connection to linkedin\n",
    "LINKEDIN_BASE_URL = \"api.linkedin.com\"\n",
    "LINKEDIN_VERSION = \"202308\"\n",
    "conn = http.client.HTTPSConnection(LINKEDIN_BASE_URL)"
   ]
  },
  {
   "cell_type": "code",
   "execution_count": 6,
   "metadata": {},
   "outputs": [
    {
     "name": "stderr",
     "output_type": "stream",
     "text": [
      "2023-09-22T11:18:47-0600: __main__: ERROR: Error: b'{\"error\":\"access_denied\",\"error_description\":\"This application is not allowed to create application tokens\"}'\n",
      "2023-09-22T11:18:47-0600: __main__: ERROR: Error: 401 Unauthorized\n"
     ]
    }
   ],
   "source": [
    "# Get the access token\n",
    "\n",
    "payload = f\"grant_type=client_credentials&client_id={LINKEDIN_CLIENT_ID}&client_secret={LINKEDIN_CLIENT_SECRET}\"\n",
    "headers = {\n",
    "    'content-type': \"application/x-www-form-urlencoded\"\n",
    "    }\n",
    "conn.request(\"POST\", \"/oauth/v2/accessToken\", payload, headers)\n",
    "res = conn.getresponse()\n",
    "if res.status >= 200 and res.status < 300:\n",
    "\n",
    "    # create a timestamp\n",
    "    timestamp = datetime.datetime.now().strftime('%Y-%m-%dT%H:%M:%S%z')\n",
    "\n",
    "    # read the response\n",
    "    data = res.read()\n",
    "\n",
    "    # parse the response\n",
    "    data = json.loads(data.decode('utf-8'))\n",
    "    LINKEDIN_ACCESS_TOKEN = data['access_token']\n",
    "    expires_in = data['expires_in']\n",
    "\n",
    "    # add the expires in time to the timestamp\n",
    "    expires_in = datetime.timedelta(seconds=expires_in)\n",
    "\n",
    "    # save the access token to the .env file\n",
    "    env = {}\n",
    "    env['LINKED_IN_ACCESS_TOKEN'] = LINKEDIN_ACCESS_TOKEN\n",
    "    env['LINKED_IN_ACCESS_TOKEN_EXPIRATION'] = expires_in\n",
    "\n",
    "    # write the .env file\n",
    "    with open('./.env', 'w') as f:\n",
    "        f.writelines([f'{key}=\"{value}\"' for key, value in env.items()])\n",
    "else:\n",
    "    log.error(f\"Error: {res.read()}\")\n",
    "    log.error(f\"Error: {res.status} {res.reason}\")\n",
    "\n",
    "conn.close()"
   ]
  },
  {
   "cell_type": "code",
   "execution_count": 5,
   "metadata": {},
   "outputs": [
    {
     "name": "stderr",
     "output_type": "stream",
     "text": [
      "2023-09-22T11:18:40-0600: __main__: ERROR: Error: b'{\"status\":403,\"serviceErrorCode\":100,\"code\":\"ACCESS_DENIED\",\"message\":\"Not enough permissions to access: organizations.FINDER-emailDomain.20230801\"}'\n",
      "2023-09-22T11:18:40-0600: __main__: ERROR: Error: 403 Forbidden\n"
     ]
    }
   ],
   "source": [
    "payload = ''\n",
    "headers = {\n",
    "    'Authorization': f'Bearer {LINKEDIN_ACCESS_TOKEN}',\n",
    "    'LinkedIn-Version': f'{LINKEDIN_VERSION}',\n",
    "    'X-Restli-Protocol-Version': '2.0.0'\n",
    "}\n",
    "\n",
    "domain = \"gmail.com\"\n",
    "conn.request(\n",
    "    \"GET\", f\"/rest/organizations?q=emailDomain&emailDomain={domain}\",\n",
    "    payload,\n",
    "    headers\n",
    ")\n",
    "\n",
    "res = conn.getresponse()\n",
    "if res.status >= 200 and res.status < 300:\n",
    "    data = res.read()\n",
    "    log.debug(data.decode(\"utf-8\"))\n",
    "else:\n",
    "    log.error(f\"Error: {res.read()}\")\n",
    "    log.error(f\"Error: {res.status} {res.reason}\")\n",
    "\n",
    "conn.close()\n"
   ]
  },
  {
   "cell_type": "code",
   "execution_count": null,
   "metadata": {},
   "outputs": [],
   "source": []
  }
 ],
 "metadata": {
  "kernelspec": {
   "display_name": "venv",
   "language": "python",
   "name": "python3"
  },
  "language_info": {
   "codemirror_mode": {
    "name": "ipython",
    "version": 3
   },
   "file_extension": ".py",
   "mimetype": "text/x-python",
   "name": "python",
   "nbconvert_exporter": "python",
   "pygments_lexer": "ipython3",
   "version": "3.11.2"
  },
  "orig_nbformat": 4
 },
 "nbformat": 4,
 "nbformat_minor": 2
}

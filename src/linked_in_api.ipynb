{
 "cells": [
  {
   "cell_type": "markdown",
   "metadata": {},
   "source": [
    "```\n",
    "File: linked_in_api.ipynb\n",
    "Author: Michael Lucky\n",
    "Date: September 13, 2023\n",
    "Description: This notebook is intended to be used as a template for using the LinkedIn API to extract data from LinkedIn company profiles for data collection.\n",
    "\n",
    "Copyright (c) 2023 Jelloow\n",
    "\n",
    "For inquiries or permissions regarding the use of this code, please contact:\n",
    "info@jelloow.com\n",
    "```"
   ]
  },
  {
   "cell_type": "code",
   "execution_count": 1,
   "metadata": {},
   "outputs": [],
   "source": [
    "import http.client\n",
    "import logging\n",
    "import tomllib\n",
    "\n",
    "# format logging\n",
    "logging.basicConfig(format='%(asctime)s: %(name)s: %(levelname)s: %(message)s', level=logging.DEBUG, datefmt='%Y-%m-%dT%H:%M:%S%z')\n",
    "\n",
    "# create logger\n",
    "log = logging.getLogger(__name__)\n",
    "\n",
    "# read in .env file\n",
    "with open('./.env', 'rb') as f:\n",
    "    env = tomllib.load(f)"
   ]
  },
  {
   "cell_type": "code",
   "execution_count": 2,
   "metadata": {},
   "outputs": [
    {
     "name": "stderr",
     "output_type": "stream",
     "text": [
      "2023-09-13T09:32:06-0600: __main__: DEBUG: Error: 401 Unauthorized\n"
     ]
    }
   ],
   "source": [
    "base_url = \"api.linkedin.com\"\n",
    "version = \"202206\"\n",
    "access_token = env[\"access_token\"]\n",
    "\n",
    "conn = http.client.HTTPSConnection(base_url)\n",
    "payload = ''\n",
    "headers = {\n",
    "    'Authorization': f'Bearer {access_token}',\n",
    "    'LinkedIn-Version': f'{version}',\n",
    "    'X-Restli-Protocol-Version': '2.0.0'\n",
    "}\n",
    "\n",
    "domain = \"gmail.com\"\n",
    "conn.request(\n",
    "    \"GET\", f\"/rest/organizations?q=emailDomain&emailDomain={domain}\",\n",
    "    payload,\n",
    "    headers\n",
    ")\n",
    "\n",
    "res = conn.getresponse()\n",
    "if res.status >= 200 and res.status < 300:\n",
    "    data = res.read()\n",
    "    log.debug(data.decode(\"utf-8\"))\n",
    "else:\n",
    "    log.debug(f\"Error: {res.status} {res.reason}\")"
   ]
  }
 ],
 "metadata": {
  "kernelspec": {
   "display_name": "venv",
   "language": "python",
   "name": "python3"
  },
  "language_info": {
   "codemirror_mode": {
    "name": "ipython",
    "version": 3
   },
   "file_extension": ".py",
   "mimetype": "text/x-python",
   "name": "python",
   "nbconvert_exporter": "python",
   "pygments_lexer": "ipython3",
   "version": "3.11.2"
  },
  "orig_nbformat": 4
 },
 "nbformat": 4,
 "nbformat_minor": 2
}
